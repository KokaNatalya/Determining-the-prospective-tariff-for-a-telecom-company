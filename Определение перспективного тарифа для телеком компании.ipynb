{
 "cells": [
  {
   "cell_type": "markdown",
   "metadata": {},
   "source": [
    "# Определение перспективного тарифа для телеком компании "
   ]
  },
  {
   "cell_type": "markdown",
   "metadata": {},
   "source": [
    "**Цель** - определить какой тариф приносит больше выручки.\n",
    "\n",
    "**Задачи**:\n",
    "- сделать предварительный анализ тарифов. \n",
    "- определить: кто клиенты оператора, откуда, каким тарифом пользуются, сколько звонков и сообщений каждый отправил за 2018 год. \n",
    "- сделать вывод.\n",
    "\n",
    "В нашем распоряжении выборка из 500 клиентов. \n",
    "\n",
    "***Описание тарифов***\n",
    "_________________________________________________________________________\n",
    "**Тариф «Смарт»**\n",
    "- Ежемесячная плата: 550 рублей\n",
    "- Включено 500 минут разговора, 50 сообщений и 15 Гб интернет-трафика\n",
    "\n",
    "*Стоимость услуг сверх тарифного пакета:*\n",
    "- минута разговора: 3 рубля\n",
    "- сообщение: 3 рубля\n",
    "- 1 Гб интернет-трафика: 200 рублей\n",
    "_________________________________________________________________________\n",
    "**Тариф «Ультра»**\n",
    "- Ежемесячная плата: 1950 рублей\n",
    "- Включено 3000 минут разговора, 1000 сообщений и 30 Гб интернет-трафика\n",
    "\n",
    "*Стоимость услуг сверх тарифного пакета:*\n",
    "- минута разговора: 1 рубль\n",
    "- сообщение: 1 рубль\n",
    "- 1 Гб интернет-трафика: 150 рублей\n",
    "________________________________________________________________________\n",
    "*значения минут и Мб округляются вверх*\n",
    "\n",
    "**План**:\n",
    "1. Открыть данные и изучить общую информацию;\n",
    "2. Подготовить данные:\n",
    "    - Привести данные к нужным типам;\n",
    "    - Найти и исправить ошибки.\n",
    "    - Рассчитать для каждого абонента:\n",
    "        - количество сделанных звонков и израсходованных минут разговора по месяцам;\n",
    "        - количество отправленных сообщений по месяцам;\n",
    "        - объем израсходованного интернет-трафика по месяцам;\n",
    "        - помесячную выручку с каждого абонента.\n",
    "4. Описать поведение абонентов: \n",
    "    - Сколько минут разговора, сообщений и какой объём интернет-трафика требуется абонентам каждого тарифа в месяц; \n",
    "    - Рассчитать среднее количество, дисперсию и стандартное отклонение;\n",
    "    - Построить гистограммы\n",
    "    - Описать распределения.\n",
    "5. Проверить гипотезы\n",
    "    - средняя выручка от абонентов тарифов «Ультра» и «Смарт» различается;\n",
    "    - средняя выручка от абонентов из Москвы отличается от выручки пользователей из других регионов;\n",
    "6. [Сделать общий вывод.](#total_conclusion)"
   ]
  },
  {
   "cell_type": "markdown",
   "metadata": {},
   "source": [
    "### Открытие файла с данными и изучение общей информации. "
   ]
  },
  {
   "cell_type": "code",
   "execution_count": 1,
   "metadata": {},
   "outputs": [],
   "source": [
    "import pandas as pd\n",
    "import numpy as np\n",
    "from scipy import stats as st\n",
    "import datetime as dt\n",
    "import matplotlib.pyplot as plt\n",
    "import warnings\n",
    "warnings.filterwarnings(\"ignore\")"
   ]
  },
  {
   "cell_type": "code",
   "execution_count": 2,
   "metadata": {},
   "outputs": [],
   "source": [
    "calls = pd.read_csv('calls.csv', parse_dates=['call_date'])\n",
    "internet= pd.read_csv('internet.csv', index_col=0, parse_dates=['session_date'])\n",
    "messages= pd.read_csv('messages.csv', parse_dates=['message_date'])\n",
    "tariffs= pd.read_csv('tariffs.csv')\n",
    "users= pd.read_csv('users.csv', parse_dates=['reg_date'])"
   ]
  },
  {
   "cell_type": "code",
   "execution_count": 3,
   "metadata": {
    "scrolled": true
   },
   "outputs": [
    {
     "name": "stdout",
     "output_type": "stream",
     "text": [
      "<class 'pandas.core.frame.DataFrame'>\n",
      "RangeIndex: 202607 entries, 0 to 202606\n",
      "Data columns (total 4 columns):\n",
      " #   Column     Non-Null Count   Dtype         \n",
      "---  ------     --------------   -----         \n",
      " 0   id         202607 non-null  object        \n",
      " 1   call_date  202607 non-null  datetime64[ns]\n",
      " 2   duration   202607 non-null  float64       \n",
      " 3   user_id    202607 non-null  int64         \n",
      "dtypes: datetime64[ns](1), float64(1), int64(1), object(1)\n",
      "memory usage: 6.2+ MB\n"
     ]
    },
    {
     "data": {
      "text/html": [
       "<div>\n",
       "<style scoped>\n",
       "    .dataframe tbody tr th:only-of-type {\n",
       "        vertical-align: middle;\n",
       "    }\n",
       "\n",
       "    .dataframe tbody tr th {\n",
       "        vertical-align: top;\n",
       "    }\n",
       "\n",
       "    .dataframe thead th {\n",
       "        text-align: right;\n",
       "    }\n",
       "</style>\n",
       "<table border=\"1\" class=\"dataframe\">\n",
       "  <thead>\n",
       "    <tr style=\"text-align: right;\">\n",
       "      <th></th>\n",
       "      <th>id</th>\n",
       "      <th>call_date</th>\n",
       "      <th>duration</th>\n",
       "      <th>user_id</th>\n",
       "    </tr>\n",
       "  </thead>\n",
       "  <tbody>\n",
       "    <tr>\n",
       "      <th>0</th>\n",
       "      <td>1000_0</td>\n",
       "      <td>2018-07-25</td>\n",
       "      <td>0.00</td>\n",
       "      <td>1000</td>\n",
       "    </tr>\n",
       "    <tr>\n",
       "      <th>1</th>\n",
       "      <td>1000_1</td>\n",
       "      <td>2018-08-17</td>\n",
       "      <td>0.00</td>\n",
       "      <td>1000</td>\n",
       "    </tr>\n",
       "    <tr>\n",
       "      <th>2</th>\n",
       "      <td>1000_2</td>\n",
       "      <td>2018-06-11</td>\n",
       "      <td>2.85</td>\n",
       "      <td>1000</td>\n",
       "    </tr>\n",
       "    <tr>\n",
       "      <th>3</th>\n",
       "      <td>1000_3</td>\n",
       "      <td>2018-09-21</td>\n",
       "      <td>13.80</td>\n",
       "      <td>1000</td>\n",
       "    </tr>\n",
       "    <tr>\n",
       "      <th>4</th>\n",
       "      <td>1000_4</td>\n",
       "      <td>2018-12-15</td>\n",
       "      <td>5.18</td>\n",
       "      <td>1000</td>\n",
       "    </tr>\n",
       "  </tbody>\n",
       "</table>\n",
       "</div>"
      ],
      "text/plain": [
       "       id  call_date  duration  user_id\n",
       "0  1000_0 2018-07-25      0.00     1000\n",
       "1  1000_1 2018-08-17      0.00     1000\n",
       "2  1000_2 2018-06-11      2.85     1000\n",
       "3  1000_3 2018-09-21     13.80     1000\n",
       "4  1000_4 2018-12-15      5.18     1000"
      ]
     },
     "metadata": {},
     "output_type": "display_data"
    },
    {
     "name": "stdout",
     "output_type": "stream",
     "text": [
      "-----------------------------------\n",
      "<class 'pandas.core.frame.DataFrame'>\n",
      "Int64Index: 149396 entries, 0 to 149395\n",
      "Data columns (total 4 columns):\n",
      " #   Column        Non-Null Count   Dtype         \n",
      "---  ------        --------------   -----         \n",
      " 0   id            149396 non-null  object        \n",
      " 1   mb_used       149396 non-null  float64       \n",
      " 2   session_date  149396 non-null  datetime64[ns]\n",
      " 3   user_id       149396 non-null  int64         \n",
      "dtypes: datetime64[ns](1), float64(1), int64(1), object(1)\n",
      "memory usage: 5.7+ MB\n"
     ]
    },
    {
     "data": {
      "text/html": [
       "<div>\n",
       "<style scoped>\n",
       "    .dataframe tbody tr th:only-of-type {\n",
       "        vertical-align: middle;\n",
       "    }\n",
       "\n",
       "    .dataframe tbody tr th {\n",
       "        vertical-align: top;\n",
       "    }\n",
       "\n",
       "    .dataframe thead th {\n",
       "        text-align: right;\n",
       "    }\n",
       "</style>\n",
       "<table border=\"1\" class=\"dataframe\">\n",
       "  <thead>\n",
       "    <tr style=\"text-align: right;\">\n",
       "      <th></th>\n",
       "      <th>id</th>\n",
       "      <th>mb_used</th>\n",
       "      <th>session_date</th>\n",
       "      <th>user_id</th>\n",
       "    </tr>\n",
       "  </thead>\n",
       "  <tbody>\n",
       "    <tr>\n",
       "      <th>0</th>\n",
       "      <td>1000_0</td>\n",
       "      <td>112.95</td>\n",
       "      <td>2018-11-25</td>\n",
       "      <td>1000</td>\n",
       "    </tr>\n",
       "    <tr>\n",
       "      <th>1</th>\n",
       "      <td>1000_1</td>\n",
       "      <td>1052.81</td>\n",
       "      <td>2018-09-07</td>\n",
       "      <td>1000</td>\n",
       "    </tr>\n",
       "    <tr>\n",
       "      <th>2</th>\n",
       "      <td>1000_2</td>\n",
       "      <td>1197.26</td>\n",
       "      <td>2018-06-25</td>\n",
       "      <td>1000</td>\n",
       "    </tr>\n",
       "    <tr>\n",
       "      <th>3</th>\n",
       "      <td>1000_3</td>\n",
       "      <td>550.27</td>\n",
       "      <td>2018-08-22</td>\n",
       "      <td>1000</td>\n",
       "    </tr>\n",
       "    <tr>\n",
       "      <th>4</th>\n",
       "      <td>1000_4</td>\n",
       "      <td>302.56</td>\n",
       "      <td>2018-09-24</td>\n",
       "      <td>1000</td>\n",
       "    </tr>\n",
       "  </tbody>\n",
       "</table>\n",
       "</div>"
      ],
      "text/plain": [
       "       id  mb_used session_date  user_id\n",
       "0  1000_0   112.95   2018-11-25     1000\n",
       "1  1000_1  1052.81   2018-09-07     1000\n",
       "2  1000_2  1197.26   2018-06-25     1000\n",
       "3  1000_3   550.27   2018-08-22     1000\n",
       "4  1000_4   302.56   2018-09-24     1000"
      ]
     },
     "metadata": {},
     "output_type": "display_data"
    },
    {
     "name": "stdout",
     "output_type": "stream",
     "text": [
      "-----------------------------------\n",
      "<class 'pandas.core.frame.DataFrame'>\n",
      "RangeIndex: 123036 entries, 0 to 123035\n",
      "Data columns (total 3 columns):\n",
      " #   Column        Non-Null Count   Dtype         \n",
      "---  ------        --------------   -----         \n",
      " 0   id            123036 non-null  object        \n",
      " 1   message_date  123036 non-null  datetime64[ns]\n",
      " 2   user_id       123036 non-null  int64         \n",
      "dtypes: datetime64[ns](1), int64(1), object(1)\n",
      "memory usage: 2.8+ MB\n"
     ]
    },
    {
     "data": {
      "text/html": [
       "<div>\n",
       "<style scoped>\n",
       "    .dataframe tbody tr th:only-of-type {\n",
       "        vertical-align: middle;\n",
       "    }\n",
       "\n",
       "    .dataframe tbody tr th {\n",
       "        vertical-align: top;\n",
       "    }\n",
       "\n",
       "    .dataframe thead th {\n",
       "        text-align: right;\n",
       "    }\n",
       "</style>\n",
       "<table border=\"1\" class=\"dataframe\">\n",
       "  <thead>\n",
       "    <tr style=\"text-align: right;\">\n",
       "      <th></th>\n",
       "      <th>id</th>\n",
       "      <th>message_date</th>\n",
       "      <th>user_id</th>\n",
       "    </tr>\n",
       "  </thead>\n",
       "  <tbody>\n",
       "    <tr>\n",
       "      <th>0</th>\n",
       "      <td>1000_0</td>\n",
       "      <td>2018-06-27</td>\n",
       "      <td>1000</td>\n",
       "    </tr>\n",
       "    <tr>\n",
       "      <th>1</th>\n",
       "      <td>1000_1</td>\n",
       "      <td>2018-10-08</td>\n",
       "      <td>1000</td>\n",
       "    </tr>\n",
       "    <tr>\n",
       "      <th>2</th>\n",
       "      <td>1000_2</td>\n",
       "      <td>2018-08-04</td>\n",
       "      <td>1000</td>\n",
       "    </tr>\n",
       "    <tr>\n",
       "      <th>3</th>\n",
       "      <td>1000_3</td>\n",
       "      <td>2018-06-16</td>\n",
       "      <td>1000</td>\n",
       "    </tr>\n",
       "    <tr>\n",
       "      <th>4</th>\n",
       "      <td>1000_4</td>\n",
       "      <td>2018-12-05</td>\n",
       "      <td>1000</td>\n",
       "    </tr>\n",
       "  </tbody>\n",
       "</table>\n",
       "</div>"
      ],
      "text/plain": [
       "       id message_date  user_id\n",
       "0  1000_0   2018-06-27     1000\n",
       "1  1000_1   2018-10-08     1000\n",
       "2  1000_2   2018-08-04     1000\n",
       "3  1000_3   2018-06-16     1000\n",
       "4  1000_4   2018-12-05     1000"
      ]
     },
     "metadata": {},
     "output_type": "display_data"
    },
    {
     "name": "stdout",
     "output_type": "stream",
     "text": [
      "-----------------------------------\n",
      "<class 'pandas.core.frame.DataFrame'>\n",
      "RangeIndex: 2 entries, 0 to 1\n",
      "Data columns (total 8 columns):\n",
      " #   Column                 Non-Null Count  Dtype \n",
      "---  ------                 --------------  ----- \n",
      " 0   messages_included      2 non-null      int64 \n",
      " 1   mb_per_month_included  2 non-null      int64 \n",
      " 2   minutes_included       2 non-null      int64 \n",
      " 3   rub_monthly_fee        2 non-null      int64 \n",
      " 4   rub_per_gb             2 non-null      int64 \n",
      " 5   rub_per_message        2 non-null      int64 \n",
      " 6   rub_per_minute         2 non-null      int64 \n",
      " 7   tariff_name            2 non-null      object\n",
      "dtypes: int64(7), object(1)\n",
      "memory usage: 256.0+ bytes\n"
     ]
    },
    {
     "data": {
      "text/html": [
       "<div>\n",
       "<style scoped>\n",
       "    .dataframe tbody tr th:only-of-type {\n",
       "        vertical-align: middle;\n",
       "    }\n",
       "\n",
       "    .dataframe tbody tr th {\n",
       "        vertical-align: top;\n",
       "    }\n",
       "\n",
       "    .dataframe thead th {\n",
       "        text-align: right;\n",
       "    }\n",
       "</style>\n",
       "<table border=\"1\" class=\"dataframe\">\n",
       "  <thead>\n",
       "    <tr style=\"text-align: right;\">\n",
       "      <th></th>\n",
       "      <th>messages_included</th>\n",
       "      <th>mb_per_month_included</th>\n",
       "      <th>minutes_included</th>\n",
       "      <th>rub_monthly_fee</th>\n",
       "      <th>rub_per_gb</th>\n",
       "      <th>rub_per_message</th>\n",
       "      <th>rub_per_minute</th>\n",
       "      <th>tariff_name</th>\n",
       "    </tr>\n",
       "  </thead>\n",
       "  <tbody>\n",
       "    <tr>\n",
       "      <th>0</th>\n",
       "      <td>50</td>\n",
       "      <td>15360</td>\n",
       "      <td>500</td>\n",
       "      <td>550</td>\n",
       "      <td>200</td>\n",
       "      <td>3</td>\n",
       "      <td>3</td>\n",
       "      <td>smart</td>\n",
       "    </tr>\n",
       "    <tr>\n",
       "      <th>1</th>\n",
       "      <td>1000</td>\n",
       "      <td>30720</td>\n",
       "      <td>3000</td>\n",
       "      <td>1950</td>\n",
       "      <td>150</td>\n",
       "      <td>1</td>\n",
       "      <td>1</td>\n",
       "      <td>ultra</td>\n",
       "    </tr>\n",
       "  </tbody>\n",
       "</table>\n",
       "</div>"
      ],
      "text/plain": [
       "   messages_included  mb_per_month_included  minutes_included  \\\n",
       "0                 50                  15360               500   \n",
       "1               1000                  30720              3000   \n",
       "\n",
       "   rub_monthly_fee  rub_per_gb  rub_per_message  rub_per_minute tariff_name  \n",
       "0              550         200                3               3       smart  \n",
       "1             1950         150                1               1       ultra  "
      ]
     },
     "metadata": {},
     "output_type": "display_data"
    },
    {
     "name": "stdout",
     "output_type": "stream",
     "text": [
      "-----------------------------------\n",
      "<class 'pandas.core.frame.DataFrame'>\n",
      "RangeIndex: 500 entries, 0 to 499\n",
      "Data columns (total 8 columns):\n",
      " #   Column      Non-Null Count  Dtype         \n",
      "---  ------      --------------  -----         \n",
      " 0   user_id     500 non-null    int64         \n",
      " 1   age         500 non-null    int64         \n",
      " 2   churn_date  38 non-null     object        \n",
      " 3   city        500 non-null    object        \n",
      " 4   first_name  500 non-null    object        \n",
      " 5   last_name   500 non-null    object        \n",
      " 6   reg_date    500 non-null    datetime64[ns]\n",
      " 7   tariff      500 non-null    object        \n",
      "dtypes: datetime64[ns](1), int64(2), object(5)\n",
      "memory usage: 31.4+ KB\n"
     ]
    },
    {
     "data": {
      "text/html": [
       "<div>\n",
       "<style scoped>\n",
       "    .dataframe tbody tr th:only-of-type {\n",
       "        vertical-align: middle;\n",
       "    }\n",
       "\n",
       "    .dataframe tbody tr th {\n",
       "        vertical-align: top;\n",
       "    }\n",
       "\n",
       "    .dataframe thead th {\n",
       "        text-align: right;\n",
       "    }\n",
       "</style>\n",
       "<table border=\"1\" class=\"dataframe\">\n",
       "  <thead>\n",
       "    <tr style=\"text-align: right;\">\n",
       "      <th></th>\n",
       "      <th>user_id</th>\n",
       "      <th>age</th>\n",
       "      <th>churn_date</th>\n",
       "      <th>city</th>\n",
       "      <th>first_name</th>\n",
       "      <th>last_name</th>\n",
       "      <th>reg_date</th>\n",
       "      <th>tariff</th>\n",
       "    </tr>\n",
       "  </thead>\n",
       "  <tbody>\n",
       "    <tr>\n",
       "      <th>0</th>\n",
       "      <td>1000</td>\n",
       "      <td>52</td>\n",
       "      <td>NaN</td>\n",
       "      <td>Краснодар</td>\n",
       "      <td>Рафаил</td>\n",
       "      <td>Верещагин</td>\n",
       "      <td>2018-05-25</td>\n",
       "      <td>ultra</td>\n",
       "    </tr>\n",
       "    <tr>\n",
       "      <th>1</th>\n",
       "      <td>1001</td>\n",
       "      <td>41</td>\n",
       "      <td>NaN</td>\n",
       "      <td>Москва</td>\n",
       "      <td>Иван</td>\n",
       "      <td>Ежов</td>\n",
       "      <td>2018-11-01</td>\n",
       "      <td>smart</td>\n",
       "    </tr>\n",
       "    <tr>\n",
       "      <th>2</th>\n",
       "      <td>1002</td>\n",
       "      <td>59</td>\n",
       "      <td>NaN</td>\n",
       "      <td>Стерлитамак</td>\n",
       "      <td>Евгений</td>\n",
       "      <td>Абрамович</td>\n",
       "      <td>2018-06-17</td>\n",
       "      <td>smart</td>\n",
       "    </tr>\n",
       "    <tr>\n",
       "      <th>3</th>\n",
       "      <td>1003</td>\n",
       "      <td>23</td>\n",
       "      <td>NaN</td>\n",
       "      <td>Москва</td>\n",
       "      <td>Белла</td>\n",
       "      <td>Белякова</td>\n",
       "      <td>2018-08-17</td>\n",
       "      <td>ultra</td>\n",
       "    </tr>\n",
       "    <tr>\n",
       "      <th>4</th>\n",
       "      <td>1004</td>\n",
       "      <td>68</td>\n",
       "      <td>NaN</td>\n",
       "      <td>Новокузнецк</td>\n",
       "      <td>Татьяна</td>\n",
       "      <td>Авдеенко</td>\n",
       "      <td>2018-05-14</td>\n",
       "      <td>ultra</td>\n",
       "    </tr>\n",
       "  </tbody>\n",
       "</table>\n",
       "</div>"
      ],
      "text/plain": [
       "   user_id  age churn_date         city first_name  last_name   reg_date  \\\n",
       "0     1000   52        NaN    Краснодар     Рафаил  Верещагин 2018-05-25   \n",
       "1     1001   41        NaN       Москва       Иван       Ежов 2018-11-01   \n",
       "2     1002   59        NaN  Стерлитамак    Евгений  Абрамович 2018-06-17   \n",
       "3     1003   23        NaN       Москва      Белла   Белякова 2018-08-17   \n",
       "4     1004   68        NaN  Новокузнецк    Татьяна   Авдеенко 2018-05-14   \n",
       "\n",
       "  tariff  \n",
       "0  ultra  \n",
       "1  smart  \n",
       "2  smart  \n",
       "3  ultra  \n",
       "4  ultra  "
      ]
     },
     "metadata": {},
     "output_type": "display_data"
    },
    {
     "name": "stdout",
     "output_type": "stream",
     "text": [
      "-----------------------------------\n"
     ]
    }
   ],
   "source": [
    "datas = [calls, internet, messages, tariffs, users]\n",
    "for df in datas:\n",
    "    df.info()\n",
    "    display(df.head())\n",
    "    print('-----------------------------------')"
   ]
  },
  {
   "cell_type": "code",
   "execution_count": 4,
   "metadata": {},
   "outputs": [
    {
     "data": {
      "text/plain": [
       "count    149396.000000\n",
       "mean        370.192426\n",
       "std         278.300951\n",
       "min           0.000000\n",
       "25%         138.187500\n",
       "50%         348.015000\n",
       "75%         559.552500\n",
       "max        1724.830000\n",
       "Name: mb_used, dtype: float64"
      ]
     },
     "metadata": {},
     "output_type": "display_data"
    },
    {
     "data": {
      "text/plain": [
       "count    202607.000000\n",
       "mean          6.755887\n",
       "std           5.843365\n",
       "min           0.000000\n",
       "25%           1.300000\n",
       "50%           6.000000\n",
       "75%          10.700000\n",
       "max          38.000000\n",
       "Name: duration, dtype: float64"
      ]
     },
     "metadata": {},
     "output_type": "display_data"
    }
   ],
   "source": [
    "display(internet['mb_used'].describe())\n",
    "display(calls['duration'].describe())"
   ]
  },
  {
   "cell_type": "markdown",
   "metadata": {},
   "source": [
    "найдем долю продолжительности звонков и интернет-трафика равных 0.0"
   ]
  },
  {
   "cell_type": "code",
   "execution_count": 5,
   "metadata": {},
   "outputs": [
    {
     "name": "stdout",
     "output_type": "stream",
     "text": [
      "доля 0 в звонках: 19.55\n",
      "доля 0 в интернет-трафике: 13.12\n"
     ]
    }
   ],
   "source": [
    "print('доля 0 в звонках:', (calls.loc[calls['duration']==0.0, 'duration'].count()/len(calls['duration'])*100).round(2))\n",
    "print('доля 0 в интернет-трафике:',(internet.loc[internet['mb_used']==0, 'mb_used'].count()/len(internet['mb_used'])*100).round(2))"
   ]
  },
  {
   "cell_type": "markdown",
   "metadata": {},
   "source": [
    "поищем источники нулей в использованных Мб"
   ]
  },
  {
   "cell_type": "code",
   "execution_count": 6,
   "metadata": {},
   "outputs": [
    {
     "data": {
      "text/html": [
       "<div>\n",
       "<style scoped>\n",
       "    .dataframe tbody tr th:only-of-type {\n",
       "        vertical-align: middle;\n",
       "    }\n",
       "\n",
       "    .dataframe tbody tr th {\n",
       "        vertical-align: top;\n",
       "    }\n",
       "\n",
       "    .dataframe thead th {\n",
       "        text-align: right;\n",
       "    }\n",
       "</style>\n",
       "<table border=\"1\" class=\"dataframe\">\n",
       "  <thead>\n",
       "    <tr style=\"text-align: right;\">\n",
       "      <th></th>\n",
       "      <th>mb_used</th>\n",
       "    </tr>\n",
       "    <tr>\n",
       "      <th>user_id</th>\n",
       "      <th></th>\n",
       "    </tr>\n",
       "  </thead>\n",
       "  <tbody>\n",
       "    <tr>\n",
       "      <th>1000</th>\n",
       "      <td>14</td>\n",
       "    </tr>\n",
       "    <tr>\n",
       "      <th>1001</th>\n",
       "      <td>14</td>\n",
       "    </tr>\n",
       "    <tr>\n",
       "      <th>1002</th>\n",
       "      <td>72</td>\n",
       "    </tr>\n",
       "    <tr>\n",
       "      <th>1003</th>\n",
       "      <td>2</td>\n",
       "    </tr>\n",
       "    <tr>\n",
       "      <th>1004</th>\n",
       "      <td>22</td>\n",
       "    </tr>\n",
       "    <tr>\n",
       "      <th>...</th>\n",
       "      <td>...</td>\n",
       "    </tr>\n",
       "    <tr>\n",
       "      <th>1495</th>\n",
       "      <td>10</td>\n",
       "    </tr>\n",
       "    <tr>\n",
       "      <th>1496</th>\n",
       "      <td>141</td>\n",
       "    </tr>\n",
       "    <tr>\n",
       "      <th>1497</th>\n",
       "      <td>16</td>\n",
       "    </tr>\n",
       "    <tr>\n",
       "      <th>1498</th>\n",
       "      <td>41</td>\n",
       "    </tr>\n",
       "    <tr>\n",
       "      <th>1499</th>\n",
       "      <td>31</td>\n",
       "    </tr>\n",
       "  </tbody>\n",
       "</table>\n",
       "<p>494 rows × 1 columns</p>\n",
       "</div>"
      ],
      "text/plain": [
       "         mb_used\n",
       "user_id         \n",
       "1000          14\n",
       "1001          14\n",
       "1002          72\n",
       "1003           2\n",
       "1004          22\n",
       "...          ...\n",
       "1495          10\n",
       "1496         141\n",
       "1497          16\n",
       "1498          41\n",
       "1499          31\n",
       "\n",
       "[494 rows x 1 columns]"
      ]
     },
     "execution_count": 6,
     "metadata": {},
     "output_type": "execute_result"
    }
   ],
   "source": [
    "zero_internet=internet.loc[internet['mb_used']==0]\n",
    "zero_internet.pivot_table(index='user_id', values='mb_used', aggfunc='count')\n",
    "#zero_internet.head(20)"
   ]
  },
  {
   "cell_type": "markdown",
   "metadata": {},
   "source": [
    "0 значения в использованных Мб интернета присутствуют у всех пользователей, при чем в разном количестве и в разные даты, значит это не централизованный сбой. возможная причина это оставление включенным мобильного интернета при пользовании wi-fi. значит на выручку эти значения не повлияют, значит можно удалить."
   ]
  },
  {
   "cell_type": "markdown",
   "metadata": {},
   "source": [
    "заменим название столбца tariff_name на tariff в таблице tariffs, чтобы потом объединить таблицы по этому столбцу"
   ]
  },
  {
   "cell_type": "code",
   "execution_count": 7,
   "metadata": {},
   "outputs": [
    {
     "data": {
      "text/html": [
       "<div>\n",
       "<style scoped>\n",
       "    .dataframe tbody tr th:only-of-type {\n",
       "        vertical-align: middle;\n",
       "    }\n",
       "\n",
       "    .dataframe tbody tr th {\n",
       "        vertical-align: top;\n",
       "    }\n",
       "\n",
       "    .dataframe thead th {\n",
       "        text-align: right;\n",
       "    }\n",
       "</style>\n",
       "<table border=\"1\" class=\"dataframe\">\n",
       "  <thead>\n",
       "    <tr style=\"text-align: right;\">\n",
       "      <th></th>\n",
       "      <th>messages_included</th>\n",
       "      <th>mb_per_month_included</th>\n",
       "      <th>minutes_included</th>\n",
       "      <th>rub_monthly_fee</th>\n",
       "      <th>rub_per_gb</th>\n",
       "      <th>rub_per_message</th>\n",
       "      <th>rub_per_minute</th>\n",
       "      <th>tariff</th>\n",
       "    </tr>\n",
       "  </thead>\n",
       "  <tbody>\n",
       "    <tr>\n",
       "      <th>0</th>\n",
       "      <td>50</td>\n",
       "      <td>15360</td>\n",
       "      <td>500</td>\n",
       "      <td>550</td>\n",
       "      <td>200</td>\n",
       "      <td>3</td>\n",
       "      <td>3</td>\n",
       "      <td>smart</td>\n",
       "    </tr>\n",
       "    <tr>\n",
       "      <th>1</th>\n",
       "      <td>1000</td>\n",
       "      <td>30720</td>\n",
       "      <td>3000</td>\n",
       "      <td>1950</td>\n",
       "      <td>150</td>\n",
       "      <td>1</td>\n",
       "      <td>1</td>\n",
       "      <td>ultra</td>\n",
       "    </tr>\n",
       "  </tbody>\n",
       "</table>\n",
       "</div>"
      ],
      "text/plain": [
       "   messages_included  mb_per_month_included  minutes_included  \\\n",
       "0                 50                  15360               500   \n",
       "1               1000                  30720              3000   \n",
       "\n",
       "   rub_monthly_fee  rub_per_gb  rub_per_message  rub_per_minute tariff  \n",
       "0              550         200                3               3  smart  \n",
       "1             1950         150                1               1  ultra  "
      ]
     },
     "execution_count": 7,
     "metadata": {},
     "output_type": "execute_result"
    }
   ],
   "source": [
    "tariffs=tariffs.rename(columns={'tariff_name':'tariff'})\n",
    "tariffs.head()"
   ]
  },
  {
   "cell_type": "markdown",
   "metadata": {},
   "source": [
    "#### Промежуточный вывод"
   ]
  },
  {
   "cell_type": "markdown",
   "metadata": {},
   "source": [
    "- в данных нет пропусков;\n",
    "- есть странный столбец Unnamed: 0 в таблице internet, который дублирует индексы, сделали его столбцом с индексами;\n",
    "- 0.0 в продолжительности звонка. возможно неотвеченные вызовы, их 19.55% во всем датасете. можно удалить т.к. на стоимость и количество потраченных минут они не влияют;\n",
    "- 13.12% 0 в использованных Мб, возможная причина это оставление включенным мобильного интернета при пользовании wi-fi. значит на выручку эти значения не повлияют, значит можно удалить.\n",
    "- 442 пользователя на момент сбора данных продолжали пользоваться тарифами, из-за этого много пропусков в столбце churn_date таблицы users, удалять нельзя;\n",
    "- столбцы с датами во всех таблицах имеют тип obj, надо поменять на datetime;\n",
    "- дубликатов нет."
   ]
  },
  {
   "cell_type": "markdown",
   "metadata": {},
   "source": [
    "### Подготовка данных."
   ]
  },
  {
   "cell_type": "markdown",
   "metadata": {},
   "source": [
    "#### Исправление ошибок"
   ]
  },
  {
   "cell_type": "markdown",
   "metadata": {},
   "source": [
    "удалим строки с продолжительностью звонка и использованным Мб равными 0"
   ]
  },
  {
   "cell_type": "code",
   "execution_count": 8,
   "metadata": {},
   "outputs": [],
   "source": [
    "calls=calls.loc[calls['duration']!=0.0]\n",
    "#calls.head()\n",
    "\n",
    "internet=internet.loc[internet['mb_used']!=0]\n",
    "#internet.sample(5)"
   ]
  },
  {
   "cell_type": "markdown",
   "metadata": {},
   "source": [
    "#### Объединение таблиц"
   ]
  },
  {
   "cell_type": "markdown",
   "metadata": {},
   "source": [
    "округлим до целых в большую сторону, т.к. у тарифов такие же условия."
   ]
  },
  {
   "cell_type": "code",
   "execution_count": 9,
   "metadata": {},
   "outputs": [],
   "source": [
    "calls.loc[:, 'duration']=np.ceil(calls.loc[:, 'duration'])\n",
    "calls.loc[:, 'duration']=calls.loc[:, 'duration'].astype('uint32')\n",
    "internet.loc[:, 'mb_used']=np.ceil(internet.loc[:,'mb_used'])\n",
    "internet.loc[:, 'mb_used']=internet.loc[:, 'mb_used'].astype('uint32')\n",
    "#internet.info()"
   ]
  },
  {
   "cell_type": "markdown",
   "metadata": {},
   "source": [
    "добавим столбцы со значениями месяцев для последующей группировки"
   ]
  },
  {
   "cell_type": "code",
   "execution_count": 10,
   "metadata": {},
   "outputs": [],
   "source": [
    "#функция добавляющая столбец с номером месяца\n",
    "def months(df, col):\n",
    "    df['month']=df[col].dt.month.astype('int8')"
   ]
  },
  {
   "cell_type": "code",
   "execution_count": 11,
   "metadata": {
    "scrolled": false
   },
   "outputs": [],
   "source": [
    "months(calls, 'call_date')\n",
    "months(internet, 'session_date')\n",
    "months(messages, 'message_date')"
   ]
  },
  {
   "cell_type": "markdown",
   "metadata": {},
   "source": [
    "сгруппируем датасеты по user_id и номеру месяца"
   ]
  },
  {
   "cell_type": "code",
   "execution_count": 12,
   "metadata": {},
   "outputs": [],
   "source": [
    "calls_gr=calls.pivot_table(index=['user_id', 'month'], values ='duration', aggfunc='sum')\n",
    "internet_gr=internet.pivot_table(index=['user_id', 'month'], values ='mb_used', aggfunc='sum')\n",
    "messages_gr=messages.pivot_table(index=['user_id', 'month'], values ='message_date', aggfunc='count')"
   ]
  },
  {
   "cell_type": "markdown",
   "metadata": {},
   "source": [
    "<div class=\"alert alert-success\">\n",
    "<font size=\"5\"><b>Комментарий ревьюера</b></font>\n",
    "\n",
    "Помесячные показатели рассчитаны. Данные подготовлены к дальнейшим расчетам.\n",
    "\n",
    "</div>"
   ]
  },
  {
   "cell_type": "markdown",
   "metadata": {},
   "source": [
    "объединим датасеты в 1"
   ]
  },
  {
   "cell_type": "code",
   "execution_count": 13,
   "metadata": {
    "scrolled": false
   },
   "outputs": [
    {
     "name": "stdout",
     "output_type": "stream",
     "text": [
      "<class 'pandas.core.frame.DataFrame'>\n",
      "Int64Index: 3216 entries, 0 to 3215\n",
      "Data columns (total 18 columns):\n",
      " #   Column                 Non-Null Count  Dtype         \n",
      "---  ------                 --------------  -----         \n",
      " 0   user_id                3216 non-null   int64         \n",
      " 1   age                    3216 non-null   int64         \n",
      " 2   churn_date             189 non-null    object        \n",
      " 3   city                   3216 non-null   object        \n",
      " 4   first_name             3216 non-null   object        \n",
      " 5   last_name              3216 non-null   object        \n",
      " 6   reg_date               3216 non-null   datetime64[ns]\n",
      " 7   tariff                 3216 non-null   object        \n",
      " 8   minutes_per_month      3168 non-null   float64       \n",
      " 9   mb_per_month           3201 non-null   float64       \n",
      " 10  messages_per_month     2717 non-null   float64       \n",
      " 11  messages_included      3216 non-null   int64         \n",
      " 12  mb_per_month_included  3216 non-null   int64         \n",
      " 13  minutes_included       3216 non-null   int64         \n",
      " 14  rub_monthly_fee        3216 non-null   int64         \n",
      " 15  rub_per_gb             3216 non-null   int64         \n",
      " 16  rub_per_message        3216 non-null   int64         \n",
      " 17  rub_per_minute         3216 non-null   int64         \n",
      "dtypes: datetime64[ns](1), float64(3), int64(9), object(5)\n",
      "memory usage: 477.4+ KB\n"
     ]
    }
   ],
   "source": [
    "df=calls_gr.merge(internet_gr, on=['user_id', 'month'], how='outer')\n",
    "df=df.merge(messages_gr, on=['user_id', 'month'], how='outer')\n",
    "df=users.merge(df, on='user_id', how='left')\n",
    "df=df.merge(tariffs, on='tariff', how='outer')\n",
    "df=df.rename(columns={'duration':'minutes_per_month','mb_used':'mb_per_month','message_date':'messages_per_month'})\n",
    "df.info()"
   ]
  },
  {
   "cell_type": "markdown",
   "metadata": {},
   "source": [
    "- в таблицу перенеслись ненужные для исследования толбцы, удалим их. \n",
    "- минуты смс и Мб надо сделать целыми числами.\n",
    "- образовались пропуски в использованных минутах, смс и Мб, причина, что абоненты использовали не все виды услуг, заполним нулями."
   ]
  },
  {
   "cell_type": "code",
   "execution_count": 14,
   "metadata": {},
   "outputs": [],
   "source": [
    "# функция заполняющая пропуски нулями\n",
    "def fill_zero(df, col):\n",
    "    df[col]=df[col].fillna(0)"
   ]
  },
  {
   "cell_type": "code",
   "execution_count": 15,
   "metadata": {},
   "outputs": [],
   "source": [
    "fill_zero(df, 'minutes_per_month')\n",
    "fill_zero(df, 'mb_per_month')\n",
    "fill_zero(df, 'messages_per_month')"
   ]
  },
  {
   "cell_type": "markdown",
   "metadata": {},
   "source": [
    "заменим типы данных"
   ]
  },
  {
   "cell_type": "code",
   "execution_count": 16,
   "metadata": {},
   "outputs": [],
   "source": [
    "df.loc[:, 'minutes_per_month']=df.loc[:,'minutes_per_month'].astype('uint32')\n",
    "df.loc[:,'mb_per_month']=df.loc[:,'mb_per_month'].astype('uint32')\n",
    "df.loc[:,'messages_per_month']=df.loc[:,'messages_per_month'].astype('uint32')\n",
    "#df.info()"
   ]
  },
  {
   "cell_type": "markdown",
   "metadata": {},
   "source": [
    "удалим ненужные столбцы"
   ]
  },
  {
   "cell_type": "code",
   "execution_count": 17,
   "metadata": {},
   "outputs": [
    {
     "data": {
      "text/html": [
       "<div>\n",
       "<style scoped>\n",
       "    .dataframe tbody tr th:only-of-type {\n",
       "        vertical-align: middle;\n",
       "    }\n",
       "\n",
       "    .dataframe tbody tr th {\n",
       "        vertical-align: top;\n",
       "    }\n",
       "\n",
       "    .dataframe thead th {\n",
       "        text-align: right;\n",
       "    }\n",
       "</style>\n",
       "<table border=\"1\" class=\"dataframe\">\n",
       "  <thead>\n",
       "    <tr style=\"text-align: right;\">\n",
       "      <th></th>\n",
       "      <th>user_id</th>\n",
       "      <th>churn_date</th>\n",
       "      <th>city</th>\n",
       "      <th>reg_date</th>\n",
       "      <th>tariff</th>\n",
       "      <th>minutes_per_month</th>\n",
       "      <th>mb_per_month</th>\n",
       "      <th>messages_per_month</th>\n",
       "      <th>messages_included</th>\n",
       "      <th>mb_per_month_included</th>\n",
       "      <th>minutes_included</th>\n",
       "      <th>rub_monthly_fee</th>\n",
       "      <th>rub_per_gb</th>\n",
       "      <th>rub_per_message</th>\n",
       "      <th>rub_per_minute</th>\n",
       "    </tr>\n",
       "  </thead>\n",
       "  <tbody>\n",
       "    <tr>\n",
       "      <th>0</th>\n",
       "      <td>1000</td>\n",
       "      <td>NaN</td>\n",
       "      <td>Краснодар</td>\n",
       "      <td>2018-05-25</td>\n",
       "      <td>ultra</td>\n",
       "      <td>159</td>\n",
       "      <td>2256</td>\n",
       "      <td>22</td>\n",
       "      <td>1000</td>\n",
       "      <td>30720</td>\n",
       "      <td>3000</td>\n",
       "      <td>1950</td>\n",
       "      <td>150</td>\n",
       "      <td>1</td>\n",
       "      <td>1</td>\n",
       "    </tr>\n",
       "    <tr>\n",
       "      <th>1</th>\n",
       "      <td>1000</td>\n",
       "      <td>NaN</td>\n",
       "      <td>Краснодар</td>\n",
       "      <td>2018-05-25</td>\n",
       "      <td>ultra</td>\n",
       "      <td>172</td>\n",
       "      <td>23257</td>\n",
       "      <td>60</td>\n",
       "      <td>1000</td>\n",
       "      <td>30720</td>\n",
       "      <td>3000</td>\n",
       "      <td>1950</td>\n",
       "      <td>150</td>\n",
       "      <td>1</td>\n",
       "      <td>1</td>\n",
       "    </tr>\n",
       "    <tr>\n",
       "      <th>2</th>\n",
       "      <td>1000</td>\n",
       "      <td>NaN</td>\n",
       "      <td>Краснодар</td>\n",
       "      <td>2018-05-25</td>\n",
       "      <td>ultra</td>\n",
       "      <td>340</td>\n",
       "      <td>14016</td>\n",
       "      <td>75</td>\n",
       "      <td>1000</td>\n",
       "      <td>30720</td>\n",
       "      <td>3000</td>\n",
       "      <td>1950</td>\n",
       "      <td>150</td>\n",
       "      <td>1</td>\n",
       "      <td>1</td>\n",
       "    </tr>\n",
       "    <tr>\n",
       "      <th>3</th>\n",
       "      <td>1000</td>\n",
       "      <td>NaN</td>\n",
       "      <td>Краснодар</td>\n",
       "      <td>2018-05-25</td>\n",
       "      <td>ultra</td>\n",
       "      <td>408</td>\n",
       "      <td>14070</td>\n",
       "      <td>81</td>\n",
       "      <td>1000</td>\n",
       "      <td>30720</td>\n",
       "      <td>3000</td>\n",
       "      <td>1950</td>\n",
       "      <td>150</td>\n",
       "      <td>1</td>\n",
       "      <td>1</td>\n",
       "    </tr>\n",
       "    <tr>\n",
       "      <th>4</th>\n",
       "      <td>1000</td>\n",
       "      <td>NaN</td>\n",
       "      <td>Краснодар</td>\n",
       "      <td>2018-05-25</td>\n",
       "      <td>ultra</td>\n",
       "      <td>466</td>\n",
       "      <td>14581</td>\n",
       "      <td>57</td>\n",
       "      <td>1000</td>\n",
       "      <td>30720</td>\n",
       "      <td>3000</td>\n",
       "      <td>1950</td>\n",
       "      <td>150</td>\n",
       "      <td>1</td>\n",
       "      <td>1</td>\n",
       "    </tr>\n",
       "  </tbody>\n",
       "</table>\n",
       "</div>"
      ],
      "text/plain": [
       "   user_id churn_date       city   reg_date tariff  minutes_per_month  \\\n",
       "0     1000        NaN  Краснодар 2018-05-25  ultra                159   \n",
       "1     1000        NaN  Краснодар 2018-05-25  ultra                172   \n",
       "2     1000        NaN  Краснодар 2018-05-25  ultra                340   \n",
       "3     1000        NaN  Краснодар 2018-05-25  ultra                408   \n",
       "4     1000        NaN  Краснодар 2018-05-25  ultra                466   \n",
       "\n",
       "   mb_per_month  messages_per_month  messages_included  mb_per_month_included  \\\n",
       "0          2256                  22               1000                  30720   \n",
       "1         23257                  60               1000                  30720   \n",
       "2         14016                  75               1000                  30720   \n",
       "3         14070                  81               1000                  30720   \n",
       "4         14581                  57               1000                  30720   \n",
       "\n",
       "   minutes_included  rub_monthly_fee  rub_per_gb  rub_per_message  \\\n",
       "0              3000             1950         150                1   \n",
       "1              3000             1950         150                1   \n",
       "2              3000             1950         150                1   \n",
       "3              3000             1950         150                1   \n",
       "4              3000             1950         150                1   \n",
       "\n",
       "   rub_per_minute  \n",
       "0               1  \n",
       "1               1  \n",
       "2               1  \n",
       "3               1  \n",
       "4               1  "
      ]
     },
     "execution_count": 17,
     "metadata": {},
     "output_type": "execute_result"
    }
   ],
   "source": [
    "df.drop(['age', 'first_name', 'last_name'], axis=1, inplace=True)\n",
    "df.head()"
   ]
  },
  {
   "cell_type": "markdown",
   "metadata": {},
   "source": [
    "рассчитаем выручку с каждого абонента в месяц"
   ]
  },
  {
   "cell_type": "code",
   "execution_count": 18,
   "metadata": {},
   "outputs": [
    {
     "data": {
      "text/html": [
       "<div>\n",
       "<style scoped>\n",
       "    .dataframe tbody tr th:only-of-type {\n",
       "        vertical-align: middle;\n",
       "    }\n",
       "\n",
       "    .dataframe tbody tr th {\n",
       "        vertical-align: top;\n",
       "    }\n",
       "\n",
       "    .dataframe thead th {\n",
       "        text-align: right;\n",
       "    }\n",
       "</style>\n",
       "<table border=\"1\" class=\"dataframe\">\n",
       "  <thead>\n",
       "    <tr style=\"text-align: right;\">\n",
       "      <th></th>\n",
       "      <th>user_id</th>\n",
       "      <th>churn_date</th>\n",
       "      <th>city</th>\n",
       "      <th>reg_date</th>\n",
       "      <th>tariff</th>\n",
       "      <th>minutes_per_month</th>\n",
       "      <th>mb_per_month</th>\n",
       "      <th>messages_per_month</th>\n",
       "      <th>messages_included</th>\n",
       "      <th>mb_per_month_included</th>\n",
       "      <th>minutes_included</th>\n",
       "      <th>rub_monthly_fee</th>\n",
       "      <th>rub_per_gb</th>\n",
       "      <th>rub_per_message</th>\n",
       "      <th>rub_per_minute</th>\n",
       "      <th>minutes_over</th>\n",
       "      <th>mb_over</th>\n",
       "      <th>messages_over</th>\n",
       "      <th>income</th>\n",
       "    </tr>\n",
       "  </thead>\n",
       "  <tbody>\n",
       "    <tr>\n",
       "      <th>362</th>\n",
       "      <td>1203</td>\n",
       "      <td>NaN</td>\n",
       "      <td>Москва</td>\n",
       "      <td>2018-03-13</td>\n",
       "      <td>ultra</td>\n",
       "      <td>552</td>\n",
       "      <td>9900</td>\n",
       "      <td>30</td>\n",
       "      <td>1000</td>\n",
       "      <td>30720</td>\n",
       "      <td>3000</td>\n",
       "      <td>1950</td>\n",
       "      <td>150</td>\n",
       "      <td>1</td>\n",
       "      <td>1</td>\n",
       "      <td>0</td>\n",
       "      <td>0.0</td>\n",
       "      <td>0</td>\n",
       "      <td>1950</td>\n",
       "    </tr>\n",
       "    <tr>\n",
       "      <th>2935</th>\n",
       "      <td>1435</td>\n",
       "      <td>NaN</td>\n",
       "      <td>Москва</td>\n",
       "      <td>2018-02-17</td>\n",
       "      <td>smart</td>\n",
       "      <td>401</td>\n",
       "      <td>23008</td>\n",
       "      <td>0</td>\n",
       "      <td>50</td>\n",
       "      <td>15360</td>\n",
       "      <td>500</td>\n",
       "      <td>550</td>\n",
       "      <td>200</td>\n",
       "      <td>3</td>\n",
       "      <td>3</td>\n",
       "      <td>0</td>\n",
       "      <td>1600.0</td>\n",
       "      <td>0</td>\n",
       "      <td>2150</td>\n",
       "    </tr>\n",
       "    <tr>\n",
       "      <th>377</th>\n",
       "      <td>1222</td>\n",
       "      <td>NaN</td>\n",
       "      <td>Уфа</td>\n",
       "      <td>2018-08-30</td>\n",
       "      <td>ultra</td>\n",
       "      <td>1027</td>\n",
       "      <td>21553</td>\n",
       "      <td>114</td>\n",
       "      <td>1000</td>\n",
       "      <td>30720</td>\n",
       "      <td>3000</td>\n",
       "      <td>1950</td>\n",
       "      <td>150</td>\n",
       "      <td>1</td>\n",
       "      <td>1</td>\n",
       "      <td>0</td>\n",
       "      <td>0.0</td>\n",
       "      <td>0</td>\n",
       "      <td>1950</td>\n",
       "    </tr>\n",
       "    <tr>\n",
       "      <th>274</th>\n",
       "      <td>1152</td>\n",
       "      <td>NaN</td>\n",
       "      <td>Мурманск</td>\n",
       "      <td>2018-02-05</td>\n",
       "      <td>ultra</td>\n",
       "      <td>345</td>\n",
       "      <td>27597</td>\n",
       "      <td>0</td>\n",
       "      <td>1000</td>\n",
       "      <td>30720</td>\n",
       "      <td>3000</td>\n",
       "      <td>1950</td>\n",
       "      <td>150</td>\n",
       "      <td>1</td>\n",
       "      <td>1</td>\n",
       "      <td>0</td>\n",
       "      <td>0.0</td>\n",
       "      <td>0</td>\n",
       "      <td>1950</td>\n",
       "    </tr>\n",
       "    <tr>\n",
       "      <th>1055</th>\n",
       "      <td>1012</td>\n",
       "      <td>NaN</td>\n",
       "      <td>Санкт-Петербург</td>\n",
       "      <td>2018-03-28</td>\n",
       "      <td>smart</td>\n",
       "      <td>316</td>\n",
       "      <td>26639</td>\n",
       "      <td>10</td>\n",
       "      <td>50</td>\n",
       "      <td>15360</td>\n",
       "      <td>500</td>\n",
       "      <td>550</td>\n",
       "      <td>200</td>\n",
       "      <td>3</td>\n",
       "      <td>3</td>\n",
       "      <td>0</td>\n",
       "      <td>2400.0</td>\n",
       "      <td>0</td>\n",
       "      <td>2950</td>\n",
       "    </tr>\n",
       "  </tbody>\n",
       "</table>\n",
       "</div>"
      ],
      "text/plain": [
       "      user_id churn_date             city   reg_date tariff  \\\n",
       "362      1203        NaN           Москва 2018-03-13  ultra   \n",
       "2935     1435        NaN           Москва 2018-02-17  smart   \n",
       "377      1222        NaN              Уфа 2018-08-30  ultra   \n",
       "274      1152        NaN         Мурманск 2018-02-05  ultra   \n",
       "1055     1012        NaN  Санкт-Петербург 2018-03-28  smart   \n",
       "\n",
       "      minutes_per_month  mb_per_month  messages_per_month  messages_included  \\\n",
       "362                 552          9900                  30               1000   \n",
       "2935                401         23008                   0                 50   \n",
       "377                1027         21553                 114               1000   \n",
       "274                 345         27597                   0               1000   \n",
       "1055                316         26639                  10                 50   \n",
       "\n",
       "      mb_per_month_included  minutes_included  rub_monthly_fee  rub_per_gb  \\\n",
       "362                   30720              3000             1950         150   \n",
       "2935                  15360               500              550         200   \n",
       "377                   30720              3000             1950         150   \n",
       "274                   30720              3000             1950         150   \n",
       "1055                  15360               500              550         200   \n",
       "\n",
       "      rub_per_message  rub_per_minute  minutes_over  mb_over  messages_over  \\\n",
       "362                 1               1             0      0.0              0   \n",
       "2935                3               3             0   1600.0              0   \n",
       "377                 1               1             0      0.0              0   \n",
       "274                 1               1             0      0.0              0   \n",
       "1055                3               3             0   2400.0              0   \n",
       "\n",
       "      income  \n",
       "362     1950  \n",
       "2935    2150  \n",
       "377     1950  \n",
       "274     1950  \n",
       "1055    2950  "
      ]
     },
     "execution_count": 18,
     "metadata": {},
     "output_type": "execute_result"
    }
   ],
   "source": [
    "# посчитаем выручку за количество сверх трафика\n",
    "df['minutes_over']=(df['minutes_per_month']-df['minutes_included'])*df['rub_per_minute']\n",
    "df['mb_over']=np.ceil((df['mb_per_month']-df['mb_per_month_included'])/1024)*df['rub_per_gb']\n",
    "df['messages_over']=(df['messages_per_month']-df['messages_included'])*df['rub_per_message']\n",
    "\n",
    "# удалим отрицателтьные значения\n",
    "df.loc[df['minutes_over']<0, 'minutes_over']=0\n",
    "df.loc[df['mb_over']<0, 'mb_over']=0\n",
    "df.loc[df['messages_over']<0, 'messages_over']=0\n",
    "\n",
    "# посчитаем выручку\n",
    "df['income']=df[['rub_monthly_fee', 'minutes_over', 'mb_over', 'messages_over']].sum(axis=1).astype('uint16')\n",
    "df.sample(5)"
   ]
  },
  {
   "cell_type": "markdown",
   "metadata": {},
   "source": [
    "#### Промежуточный вывод"
   ]
  },
  {
   "cell_type": "markdown",
   "metadata": {},
   "source": [
    "- удалили строки с продолжительностью звонка равной 0.0, т.к. это непринятые исходящие, а значит на выручку они не влияют;\n",
    "- удалили 0 в использованных Мб.\n",
    "- округлили суммы трафика в большую сторону;\n",
    "- сгруппировали таблицы по user_id и месяцу и объединили в один;\n",
    "- удалили ненужные столбцы с ФИО, возрастом;\n",
    "- посчитана выручка от каждого абонента в месяц."
   ]
  },
  {
   "cell_type": "markdown",
   "metadata": {},
   "source": [
    "### Описание поведения пользователей."
   ]
  },
  {
   "cell_type": "code",
   "execution_count": 19,
   "metadata": {},
   "outputs": [
    {
     "data": {
      "text/html": [
       "<div>\n",
       "<style scoped>\n",
       "    .dataframe tbody tr th:only-of-type {\n",
       "        vertical-align: middle;\n",
       "    }\n",
       "\n",
       "    .dataframe tbody tr th {\n",
       "        vertical-align: top;\n",
       "    }\n",
       "\n",
       "    .dataframe thead th {\n",
       "        text-align: right;\n",
       "    }\n",
       "</style>\n",
       "<table border=\"1\" class=\"dataframe\">\n",
       "  <thead>\n",
       "    <tr style=\"text-align: right;\">\n",
       "      <th></th>\n",
       "      <th>minutes_per_month</th>\n",
       "      <th>mb_per_month</th>\n",
       "      <th>messages_per_month</th>\n",
       "      <th>income</th>\n",
       "    </tr>\n",
       "    <tr>\n",
       "      <th>tariff</th>\n",
       "      <th></th>\n",
       "      <th></th>\n",
       "      <th></th>\n",
       "      <th></th>\n",
       "    </tr>\n",
       "  </thead>\n",
       "  <tbody>\n",
       "    <tr>\n",
       "      <th>smart</th>\n",
       "      <td>417.747534</td>\n",
       "      <td>16221.910762</td>\n",
       "      <td>33.369058</td>\n",
       "      <td>1294.305381</td>\n",
       "    </tr>\n",
       "    <tr>\n",
       "      <th>ultra</th>\n",
       "      <td>526.089249</td>\n",
       "      <td>19467.137931</td>\n",
       "      <td>49.313387</td>\n",
       "      <td>2070.943205</td>\n",
       "    </tr>\n",
       "  </tbody>\n",
       "</table>\n",
       "</div>"
      ],
      "text/plain": [
       "        minutes_per_month  mb_per_month  messages_per_month       income\n",
       "tariff                                                                  \n",
       "smart          417.747534  16221.910762           33.369058  1294.305381\n",
       "ultra          526.089249  19467.137931           49.313387  2070.943205"
      ]
     },
     "execution_count": 19,
     "metadata": {},
     "output_type": "execute_result"
    }
   ],
   "source": [
    "df.groupby('tariff').agg({'minutes_per_month':'mean','mb_per_month':'mean','messages_per_month':'mean', 'income':'mean'})"
   ]
  },
  {
   "cell_type": "markdown",
   "metadata": {},
   "source": [
    "в среднем абоненты, пользующиеся тарифом Smart используют 394 мин., 16 Гб, 33 смс. абоненты Ultra - 496 мин. 19 Гб, 49 смс.\n",
    "отсюда следует, что в среднем абоненты Smart докупают 1 Гб интернета, а абоненты Ultra не докупают ничего. средняя выручка от тарифа Smart составляет 1195 руб. (т.е. 645 руб. сверх ежемесячного платежа), от тарифа Ultra - 2060 руб. (110 руб. сверх)."
   ]
  },
  {
   "cell_type": "markdown",
   "metadata": {},
   "source": [
    "отфильтруем абоненов по тарифам"
   ]
  },
  {
   "cell_type": "code",
   "execution_count": 20,
   "metadata": {},
   "outputs": [],
   "source": [
    "ultra = df.loc[df['tariff']=='ultra']\n",
    "smart = df.loc[df['tariff']=='smart']"
   ]
  },
  {
   "cell_type": "markdown",
   "metadata": {},
   "source": [
    "рассчитаем дисперсию и стандартое отклонение для каждого вида трафика"
   ]
  },
  {
   "cell_type": "code",
   "execution_count": 21,
   "metadata": {},
   "outputs": [],
   "source": [
    "#дисперсия\n",
    "var_smart_mins = np.var(smart['minutes_per_month'], ddof=1)\n",
    "var_smart_mb = np.var(smart['mb_per_month'], ddof=1)\n",
    "var_smart_message = np.var(smart['messages_per_month'], ddof=1)\n",
    "var_smart_income = np.var(smart['income'], ddof=1)\n",
    "var_ultra_mins = np.var(ultra['minutes_per_month'], ddof=1)\n",
    "var_ultra_mb = np.var(ultra['mb_per_month'], ddof=1)\n",
    "var_ultra_message =np.var(ultra['messages_per_month'], ddof=1)\n",
    "var_ultra_income =np.var(ultra['income'], ddof=1)"
   ]
  },
  {
   "cell_type": "code",
   "execution_count": 22,
   "metadata": {},
   "outputs": [],
   "source": [
    "# стандартное отклонение\n",
    "std_smart_mins= np.std(smart['minutes_per_month'], ddof=1)\n",
    "std_smart_mb= np.std(smart['mb_per_month'], ddof=1)\n",
    "std_smart_message=np.std(smart['messages_per_month'], ddof=1)\n",
    "std_smart_income=np.std(smart['income'], ddof=1)\n",
    "std_ultra_mins=np.std(ultra['minutes_per_month'], ddof=1)\n",
    "std_ultra_mb=np.std(ultra['mb_per_month'], ddof=1)\n",
    "std_ultra_message=np.std(ultra['messages_per_month'], ddof=1)\n",
    "std_ultra_income=np.std(ultra['income'], ddof=1)"
   ]
  },
  {
   "cell_type": "markdown",
   "metadata": {},
   "source": [
    "создадим таблицу с результатами"
   ]
  },
  {
   "cell_type": "code",
   "execution_count": 23,
   "metadata": {},
   "outputs": [
    {
     "data": {
      "text/html": [
       "<style  type=\"text/css\" >\n",
       "</style><table id=\"T_8e9aa551_840c_11eb_9a1a_20474775d627\" ><thead>    <tr>        <th class=\"blank level0\" ></th>        <th class=\"col_heading level0 col0\" >parameter</th>        <th class=\"col_heading level0 col1\" >smart</th>        <th class=\"col_heading level0 col2\" >ultra</th>    </tr></thead><tbody>\n",
       "                <tr>\n",
       "                        <th id=\"T_8e9aa551_840c_11eb_9a1a_20474775d627level0_row0\" class=\"row_heading level0 row0\" >0</th>\n",
       "                        <td id=\"T_8e9aa551_840c_11eb_9a1a_20474775d627row0_col0\" class=\"data row0 col0\" >Дисперсия минут</td>\n",
       "                        <td id=\"T_8e9aa551_840c_11eb_9a1a_20474775d627row0_col1\" class=\"data row0 col1\" >36281.393836</td>\n",
       "                        <td id=\"T_8e9aa551_840c_11eb_9a1a_20474775d627row0_col2\" class=\"data row0 col2\" >101052.49</td>\n",
       "            </tr>\n",
       "            <tr>\n",
       "                        <th id=\"T_8e9aa551_840c_11eb_9a1a_20474775d627level0_row1\" class=\"row_heading level0 row1\" >1</th>\n",
       "                        <td id=\"T_8e9aa551_840c_11eb_9a1a_20474775d627row1_col0\" class=\"data row1 col0\" >Дисперсия Мб</td>\n",
       "                        <td id=\"T_8e9aa551_840c_11eb_9a1a_20474775d627row1_col1\" class=\"data row1 col1\" >34648523.300692</td>\n",
       "                        <td id=\"T_8e9aa551_840c_11eb_9a1a_20474775d627row1_col2\" class=\"data row1 col2\" >102217264.28</td>\n",
       "            </tr>\n",
       "            <tr>\n",
       "                        <th id=\"T_8e9aa551_840c_11eb_9a1a_20474775d627level0_row2\" class=\"row_heading level0 row2\" >2</th>\n",
       "                        <td id=\"T_8e9aa551_840c_11eb_9a1a_20474775d627row2_col0\" class=\"data row2 col0\" >Дисперсия сообщений</td>\n",
       "                        <td id=\"T_8e9aa551_840c_11eb_9a1a_20474775d627row2_col1\" class=\"data row2 col1\" >796.955256</td>\n",
       "                        <td id=\"T_8e9aa551_840c_11eb_9a1a_20474775d627row2_col2\" class=\"data row2 col2\" >2285.42</td>\n",
       "            </tr>\n",
       "            <tr>\n",
       "                        <th id=\"T_8e9aa551_840c_11eb_9a1a_20474775d627level0_row3\" class=\"row_heading level0 row3\" >3</th>\n",
       "                        <td id=\"T_8e9aa551_840c_11eb_9a1a_20474775d627row3_col0\" class=\"data row3 col0\" >Дисперсия выручки</td>\n",
       "                        <td id=\"T_8e9aa551_840c_11eb_9a1a_20474775d627row3_col1\" class=\"data row3 col1\" >673877.623614</td>\n",
       "                        <td id=\"T_8e9aa551_840c_11eb_9a1a_20474775d627row3_col2\" class=\"data row3 col2\" >143360.43</td>\n",
       "            </tr>\n",
       "            <tr>\n",
       "                        <th id=\"T_8e9aa551_840c_11eb_9a1a_20474775d627level0_row4\" class=\"row_heading level0 row4\" >4</th>\n",
       "                        <td id=\"T_8e9aa551_840c_11eb_9a1a_20474775d627row4_col0\" class=\"data row4 col0\" >Cтанд. отклонение минут</td>\n",
       "                        <td id=\"T_8e9aa551_840c_11eb_9a1a_20474775d627row4_col1\" class=\"data row4 col1\" >190.476754</td>\n",
       "                        <td id=\"T_8e9aa551_840c_11eb_9a1a_20474775d627row4_col2\" class=\"data row4 col2\" >317.89</td>\n",
       "            </tr>\n",
       "            <tr>\n",
       "                        <th id=\"T_8e9aa551_840c_11eb_9a1a_20474775d627level0_row5\" class=\"row_heading level0 row5\" >5</th>\n",
       "                        <td id=\"T_8e9aa551_840c_11eb_9a1a_20474775d627row5_col0\" class=\"data row5 col0\" >Cтанд. отклонение Мб</td>\n",
       "                        <td id=\"T_8e9aa551_840c_11eb_9a1a_20474775d627row5_col1\" class=\"data row5 col1\" >5886.299627</td>\n",
       "                        <td id=\"T_8e9aa551_840c_11eb_9a1a_20474775d627row5_col2\" class=\"data row5 col2\" >10110.26</td>\n",
       "            </tr>\n",
       "            <tr>\n",
       "                        <th id=\"T_8e9aa551_840c_11eb_9a1a_20474775d627level0_row6\" class=\"row_heading level0 row6\" >6</th>\n",
       "                        <td id=\"T_8e9aa551_840c_11eb_9a1a_20474775d627row6_col0\" class=\"data row6 col0\" >Cтанд. отклонение сообщений</td>\n",
       "                        <td id=\"T_8e9aa551_840c_11eb_9a1a_20474775d627row6_col1\" class=\"data row6 col1\" >28.230396</td>\n",
       "                        <td id=\"T_8e9aa551_840c_11eb_9a1a_20474775d627row6_col2\" class=\"data row6 col2\" >47.81</td>\n",
       "            </tr>\n",
       "            <tr>\n",
       "                        <th id=\"T_8e9aa551_840c_11eb_9a1a_20474775d627level0_row7\" class=\"row_heading level0 row7\" >7</th>\n",
       "                        <td id=\"T_8e9aa551_840c_11eb_9a1a_20474775d627row7_col0\" class=\"data row7 col0\" >Cтанд. отклонение выручки</td>\n",
       "                        <td id=\"T_8e9aa551_840c_11eb_9a1a_20474775d627row7_col1\" class=\"data row7 col1\" >820.900496</td>\n",
       "                        <td id=\"T_8e9aa551_840c_11eb_9a1a_20474775d627row7_col2\" class=\"data row7 col2\" >378.63</td>\n",
       "            </tr>\n",
       "    </tbody></table>"
      ],
      "text/plain": [
       "<pandas.io.formats.style.Styler at 0x1c9d25077f0>"
      ]
     },
     "execution_count": 23,
     "metadata": {},
     "output_type": "execute_result"
    }
   ],
   "source": [
    "var=pd.DataFrame(data=(['Дисперсия минут', var_smart_mins, var_ultra_mins], \n",
    "                       ['Дисперсия Мб', var_smart_mb, var_ultra_mb], \n",
    "                       ['Дисперсия сообщений', var_smart_message, var_ultra_message], \n",
    "                       ['Дисперсия выручки', var_smart_income, var_ultra_income], \n",
    "                       ['Cтанд. отклонение минут', std_smart_mins, std_ultra_mins], \n",
    "                       ['Cтанд. отклонение Мб', std_smart_mb, std_ultra_mb],\n",
    "                       ['Cтанд. отклонение сообщений', std_smart_message, std_ultra_message],\n",
    "                       ['Cтанд. отклонение выручки', std_smart_income, std_ultra_income]), \n",
    "                 columns = ('parameter', 'smart', 'ultra' ))\n",
    "var[['smart', 'ultra']].astype('float')\n",
    "var.style.format({'smart':'{:.2f}'})\n",
    "var.style.format({'ultra':'{:.2f}'})"
   ]
  },
  {
   "cell_type": "markdown",
   "metadata": {},
   "source": [
    "страндартные отклонения по трафикам тарифа ultra больше, чем в smart почти в 2 раза, что говорит о том, что разброс значений для тарифа ultra в среднем в 2 раза больше чем для тарифа smart. однако если рассмотреть значения стандартного отклонения относительно размера трафика для каждого тарифа, то отклонение для smart составляет ~36% от пакетного количества минут, ~39% от размера интернет трафика и ~57% от числа смс. в то время как для тарифа ultra они составляют ~10%, ~34% и ~5% соответственно, что говорит о том, что абоненты тарифа smart чаще выходят за рамки трафика, а абонеты тарифа ultra, часто не используют и половины трафика минут и смс. отклонение выручки для smart в 2 раза выше, чем для ultra, что говорит о том, что абоненты smart чаще покупают дополнительный трафик."
   ]
  },
  {
   "cell_type": "code",
   "execution_count": 24,
   "metadata": {},
   "outputs": [],
   "source": [
    "# количество корзин\n",
    "def my_bins(df,value):\n",
    "    if df[value].max() > 100:\n",
    "        return 50\n",
    "    elif df[value].max() > 500:\n",
    "        return  100\n",
    "    elif df[value].max() > 1000:\n",
    "        return  200\n",
    "    else: return 20"
   ]
  },
  {
   "cell_type": "code",
   "execution_count": 25,
   "metadata": {},
   "outputs": [],
   "source": [
    "#функция, создающая 2 графика по 2 таблицам с одинаковым столбцом\n",
    "def hists(df1, df2, col, title, x_label, y_label):\n",
    "    df1[col].plot(kind='hist', bins=my_bins(df, col), alpha=0.5, figsize=(9, 5), label = 'Smart')\n",
    "    df2[col].plot(kind='hist', bins=my_bins(df, col), alpha=0.6, figsize=(9, 5), label='Ultra')\n",
    "    plt.axvline(x=df2[col].median(), linewidth=2, color='red', label='median_ultra')\n",
    "    plt.axvline(x=df2[col].mean(), linewidth=2, color='green', label='mean_ultra')\n",
    "    plt.axvline(x=df1[col].median(), linewidth=2, color='blue', label='median_smart', linestyle='--')\n",
    "    plt.axvline(x=df1[col].mean(), linewidth=2, color='yellow', label='mean_smart', linestyle='--')\n",
    "    plt.legend()\n",
    "    plt.title(title)\n",
    "    plt.xlabel(x_label)\n",
    "    plt.ylabel(y_label)\n",
    "    plt.show()"
   ]
  },
  {
   "cell_type": "code",
   "execution_count": 26,
   "metadata": {
    "scrolled": false
   },
   "outputs": [
    {
     "data": {
      "image/png": "[encoded data removed]",
      "text/plain": [
       "<Figure size 648x360 with 1 Axes>"
      ]
     },
     "metadata": {
      "needs_background": "light"
     },
     "output_type": "display_data"
    },
    {
     "data": {
      "image/png": "[encoded data removed]",
      "text/plain": [
       "<Figure size 648x360 with 1 Axes>"
      ]
     },
     "metadata": {
      "needs_background": "light"
     },
     "output_type": "display_data"
    },
    {
     "data": {
      "image/png": "[encoded data removed]",
      "text/plain": [
       "<Figure size 648x360 with 1 Axes>"
      ]
     },
     "metadata": {
      "needs_background": "light"
     },
     "output_type": "display_data"
    },
    {
     "data": {
      "image/png": "[encoded data removed]",
      "text/plain": [
       "<Figure size 648x360 with 1 Axes>"
      ]
     },
     "metadata": {
      "needs_background": "light"
     },
     "output_type": "display_data"
    }
   ],
   "source": [
    "hists(smart, ultra, 'minutes_per_month', 'Распределение использованных минут в месяц', \n",
    "      'Число использованных минут, шт.', 'Частота, шт.')\n",
    "hists(smart, ultra, 'mb_per_month', 'Распределение использованных Мб в месяц', \n",
    "      'Число использованных Мб, шт.', 'Частота, шт.')\n",
    "hists(smart, ultra, 'messages_per_month', 'Распределение использованных сообщений в месяц', \n",
    "      'Число использованных сообщений, шт.', 'Частота, шт.')\n",
    "hists(smart, ultra, 'income', 'Распределение выручки в месяц', \n",
    "      'Выручка, руб.', 'Частота, шт.')"
   ]
  },
  {
   "cell_type": "code",
   "execution_count": 27,
   "metadata": {},
   "outputs": [
    {
     "data": {
      "image/png": "[encoded data removed]",
      "text/plain": [
       "<Figure size 576x432 with 2 Axes>"
      ]
     },
     "metadata": {
      "needs_background": "light"
     },
     "output_type": "display_data"
    }
   ],
   "source": [
    "fig, axes=plt.subplots(figsize=(8, 6), nrows=1, ncols=2)\n",
    "axes[0].boxplot(smart['income'])\n",
    "axes[0].set_xlabel('Smart')\n",
    "axes[0].set_ylabel('Выручка, руб.')\n",
    "axes[0].set_title('Распределение выручки для тарифа Smart')\n",
    "axes[1].boxplot(ultra['income'])\n",
    "axes[1].set_xlabel('Ultra')\n",
    "axes[1].set_ylabel('Выручка, руб.')\n",
    "axes[1].set_title('Распределение выручки для тарифа Ultra')\n",
    "plt.subplots_adjust(wspace=1.8)\n",
    "plt.show()"
   ]
  },
  {
   "cell_type": "markdown",
   "metadata": {},
   "source": [
    "- распределения минут и Мб для тарифа smart имеют нормальное распреденение, т.к. медианы и средние совпадают. \n",
    "- расределения минут и Мб для тарифа ultra более пологие и напоминают распределения Стьюдента, вероятно потому что малое число абонентов пользуются данным тарифом.\n",
    "- распледеление минут для ultra немного скошено вправо.\n",
    "- распределение сообщений  для обоих тарифов близки к распределению Пуассона, несмотря на большое количество 0 значений.\n",
    "- распределение выручки относится к распределению Пуассона. Практически все абоненты ultra платят только абонентскую плату (1950 руб.). для тарифа smart распределение более выражено, большее число абонентов покупают дополнительный трафик. \n",
    "- разброс выручки от Smart намного больше чем от ultra (75% выручки не превышают 2200), выручка от smart может достигать более 3500 руб."
   ]
  },
  {
   "cell_type": "markdown",
   "metadata": {},
   "source": [
    "#### Промежуточный вывод"
   ]
  },
  {
   "cell_type": "markdown",
   "metadata": {},
   "source": [
    "в среднем абоненты  Smart используют 394 мин., 16 Гб, 33 смс. абоненты Ultra - 496 мин. 19 Гб, 49 смс. отсюда следует, что в среднем абоненты Smart докупают 1 Гб интернета, а абоненты Ultra не выходят за границы трафика. средняя выручка от тарифа Smart составляет 1195 руб. (т.е. 645 руб. сверх ежемесячного платежа), от тарифа Ultra - 2060 руб. (110 руб. сверх).\n",
    "\n",
    "страндартные отклонения по трафикам тарифа Ultra больше, чем в Smart почти в 2 раза, что говорит о том, что разброс значений для тарифа ultra в среднем в 2 раза больше чем для тарифа smart. однако если рассмотреть значения стандартного отклонения относительно размера трафика для каждого тарифа, то отклонение для smart составляет ~36% от пакетного количества минут, ~39% от размера интернет трафика и ~57% от числа смс. в то время как для тарифа ultra они составляют ~10%, ~34% и ~5% соответственно, также отклонение выручки для smart в 2 раза выше, чем для ultra. Это говорит о том, что абоненты тарифа smart чаще выходят за рамки трафика, а абонеты тарифа ultra, часто не используют и половины трафика минут и смс. \n",
    "\n",
    "распределения минут и Мб для тарифа smart имеют нормальное распреденение, т.к. медианы и средние совпадают. расределения минут и Мб для тарифа ultra более пологие и напоминают распределения Стьюдента. распледеление минут для ultra немного скошено вправо. распределение сообщений для обоих тарифов близки к распределению Пуассона, несмотря на большое количество 0 значений. распределение выручки относится к распределению Пуассона. Практически все абоненты ultra платят только абонентскую плату (1950 руб.)."
   ]
  },
  {
   "cell_type": "markdown",
   "metadata": {},
   "source": [
    "### Проверка гипотез."
   ]
  },
  {
   "cell_type": "markdown",
   "metadata": {},
   "source": [
    "**Гипотеза 1**\n",
    "\n",
    "средняя выручка от абонентов тарифов ultra и smart различается"
   ]
  },
  {
   "cell_type": "markdown",
   "metadata": {},
   "source": [
    "это гипотеза о равенстве средних двух генеральных совокупностей.\n",
    "\n",
    "- H0: средняя выручка от абонентов ultra и smart тарифов равна.\n",
    "- Н1: средняя выручка от абонентов тарифов не равна."
   ]
  },
  {
   "cell_type": "code",
   "execution_count": 28,
   "metadata": {},
   "outputs": [
    {
     "name": "stdout",
     "output_type": "stream",
     "text": [
      "p-значение: 1.2414049931248708e-246\n",
      "гипотеза Н0 отвергается, средняя выручка от абонентов тарифов ultra и smart различается\n"
     ]
    }
   ],
   "source": [
    "alpha = 0.05\n",
    "\n",
    "results = st.ttest_ind(smart['income'], ultra['income'], equal_var=False)\n",
    "print('p-значение:', results.pvalue)\n",
    "\n",
    "if results.pvalue < alpha:\n",
    "    print('гипотеза Н0 отвергается, средняя выручка от абонентов тарифов ultra и smart различается')\n",
    "else:\n",
    "    print('гипотеза Н0 принимается, средняя выручка от абонентов тарифов ultra и smart равна')"
   ]
  },
  {
   "cell_type": "markdown",
   "metadata": {},
   "source": [
    "p-значение ничтожно мало, вероятность того, что в среднем в гениральной совокупности выручка абонентов тарифов ultra и smart различается очень высока."
   ]
  },
  {
   "cell_type": "markdown",
   "metadata": {},
   "source": [
    "**Гипотеза 2**\n",
    "\n",
    "средняя выручка от абонентов из Москвы отличается от выручки пользователей из других регионов"
   ]
  },
  {
   "cell_type": "markdown",
   "metadata": {},
   "source": [
    "это гипотеза о равенстве средних двух генеральных совокупностей.\n",
    "\n",
    "- H0: средняя выручка от абонентов из Москвы равна выручке от пользователей из других регионов.\n",
    "- Н1: средняя выручка от абонентов из Москвы не равна выручке от пользователей из других регионов."
   ]
  },
  {
   "cell_type": "markdown",
   "metadata": {},
   "source": [
    "создадим таблицы с данными абонентов из Москвы и других регионов. из таблицы с информацией из регионов сделаем случайную выборку, т.к. требуется равное число строк в таблицах"
   ]
  },
  {
   "cell_type": "code",
   "execution_count": 29,
   "metadata": {},
   "outputs": [
    {
     "name": "stdout",
     "output_type": "stream",
     "text": [
      "число строк из Москвы: 611\n",
      "число строк из других регионов: 2605\n",
      "новое число строк из других регионов: 611\n"
     ]
    }
   ],
   "source": [
    "moscow = df.loc[df['city']=='Москва']\n",
    "not_moscow = df.loc[df['city']!='Москва']\n",
    "\n",
    "print('число строк из Москвы:', moscow.shape[0])\n",
    "print('число строк из других регионов:', not_moscow.shape[0])\n",
    "\n",
    "#сделаем таблицы одинакового размера\n",
    "not_moscow=not_moscow.sample(len(moscow))\n",
    "print('новое число строк из других регионов:', not_moscow.shape[0])"
   ]
  },
  {
   "cell_type": "markdown",
   "metadata": {},
   "source": [
    "проверим дисперсии выручки в Москве и регионах на равенство"
   ]
  },
  {
   "cell_type": "code",
   "execution_count": 30,
   "metadata": {},
   "outputs": [
    {
     "name": "stdout",
     "output_type": "stream",
     "text": [
      "Дисперсия выручки в Москве 566183.0292184273\n",
      "Дисперсия выручки в регионах 699384.4260577929\n"
     ]
    }
   ],
   "source": [
    "print('Дисперсия выручки в Москве', np.var(moscow['income'], ddof=1))\n",
    "print('Дисперсия выручки в регионах', np.var(not_moscow['income'], ddof=1))"
   ]
  },
  {
   "cell_type": "markdown",
   "metadata": {},
   "source": [
    "дисперсии выборок примерно равны, поэтому будем использовать equal_var = True."
   ]
  },
  {
   "cell_type": "code",
   "execution_count": 31,
   "metadata": {},
   "outputs": [
    {
     "name": "stdout",
     "output_type": "stream",
     "text": [
      "p-значение: 0.5106712795861521\n",
      "гипотеза Н0 принимается, средняя выручка от абонентов из Москвы равна выручке от пользователей из других регионов.\n"
     ]
    }
   ],
   "source": [
    "alpha = 0.05\n",
    "\n",
    "results = st.ttest_ind(moscow['income'], not_moscow['income'])\n",
    "print('p-значение:', results.pvalue)\n",
    "\n",
    "if results.pvalue < alpha:\n",
    "    print('гипотеза Н0 отвергается, средняя выручка от абонентов из Москвы отличается от выручки выручке от пользователей из других регионов.')\n",
    "else:\n",
    "    print('гипотеза Н0 принимается, средняя выручка от абонентов из Москвы равна выручке от пользователей из других регионов.')"
   ]
  },
  {
   "cell_type": "markdown",
   "metadata": {},
   "source": [
    "p-значение велико, высока вероятность того, что в среднем в гениральной совокупности можно встретить абонентов из Москвы и регионов с равной выручкой. "
   ]
  },
  {
   "cell_type": "markdown",
   "metadata": {},
   "source": [
    "#### Промежуточный вывод"
   ]
  },
  {
   "cell_type": "markdown",
   "metadata": {},
   "source": [
    "- гипотеза 1 отвергается, вероятность того, что в среднем гениральной совокупности выручка абонентов тарифов ultra и smart различается очень высока.\n",
    "- гипотеза 2 принимается, высока вероятность того, что в среднем в гениральной совокупности можно встретить абонентов из Москвы и регионов с равной выручкой. (чтобы доказать 2 гипотезу из таблицы с информацией из регионов была сделана случайная выборка, т.к. требовалось равное число строк в таблицах)"
   ]
  },
  {
   "cell_type": "markdown",
   "metadata": {},
   "source": [
    "### Общий вывод <a id=\"total_conclusion\">"
   ]
  },
  {
   "cell_type": "markdown",
   "metadata": {},
   "source": [
    "В нашем распоряжении выборка из 500 клиентов. для анализа были предоставлены 5 таблиц с данными об абонентах, использованных сообщениях, минутах, мб, условиями тарифов. таблицы были сгуппированы по id абоненты и месяцу и объединены в одну.\n",
    "- в данных не найдены пропуски;\n",
    "- был странный столбец Unnamed: 0 в таблице internet, который дублирует индексы, сделали индексным столбцом;\n",
    "- 0.0 в продолжительности звонка. возможно неотвеченные вызовы, их 19.55% во всем датасете. были удалены т.к. на стоимость и количество потраченных минут они не влияют;\n",
    "- 13.12% 0 в использованных Мб, возможная причина это оставление включенным мобильного интернета при пользовании wi-fi. значит на выручку эти значения не повлияют. были удалены.\n",
    "- 442 пользователя на момент сбора данных продолжали пользоваться тарифами, из-за этого много пропусков в столбце churn_date таблицы users, оставили без изменений, т.к. информация важная;\n",
    "- столбцы с датами во всех таблицах имеют тип obj, надо поменять на datetime.\n",
    "- суммы трафика округлялись в большую сторону, т.к. это условие тарифов.\n",
    "- посчитана выручка от каждого абонента в месяц.\n",
    "\n",
    "в среднем абоненты Smart используют 396 мин., 16 Гб, 33 смс. абоненты Ultra - 514 мин. 19 Гб, 48 смс. отсюда следует, что в среднем абоненты Smart докупают 1 Гб интернета, а абоненты Ultra не выходят за границы трафика. средняя выручка от тарифа Smart составляет 1197 руб. (т.е. 647 руб. сверх ежемесячного платежа), от тарифа Ultra - 2060 руб. (110 руб. сверх).\n",
    "\n",
    "страндартные отклонения по трафикам тарифа Ultra больше, чем в Smart почти в 2 раза, что говорит о том, что разброс значений для тарифа ultra в среднем в 2 раза больше чем для тарифа smart. однако если рассмотреть значения стандартного отклонения относительно размера трафика для каждого тарифа, то отклонение для smart составляет ~36% от пакетного количества минут, ~39% от размера интернет трафика и ~57% от числа смс. в то время как для тарифа ultra они составляют ~10%, ~34% и ~5% соответственно, также стандартное отклонение выручки для smart в 2 раза выше, чем для ultra (769 руб. и 357 руб. соответственно). Это говорит о том, что абоненты тарифа smart чаще выходят за рамки трафика (выручка smart может достигать 3500 руб./мес.), а абонеты тарифа ultra, часто не используют и половины трафика минут и смс и платят 1950 руб.\n",
    "\n",
    "распределения минут и Мб для тарифа smart имеют нормальное распреденение, т.к. медианы и средние совпадают. расределения минут и Мб для тарифа ultra более пологие и напоминают распределения Стьюдента. распледеление минут для ultra немного скошено вправо. распределение сообщений для обоих тарифов близки к распределению Пуассона, несмотря на большое количество 0 значений. распределение выручки относится к распределению Пуассона.\n",
    "\n",
    "гипотеза о равенстве средней выручки от абонентов ultra и smart отвергнута, р-значение очень мало (4.057004571538909e-207). вероятность того, что в среднем в гениральной совокупности выручка абонентов тарифов ultra и smart различается очень высока.\n",
    "гипотеза об равенстве средней выручки от абонентов из Москвы и регионов принимается. высока вероятность того, что в гениральной совокупности можно встретить абонентов из Москвы и регионов с равной выручкой. (для доказательства 2 гипотезы из таблицы с информацией из регионов была сделана случайная выборка, т.к. требовалось равное число строк в таблицах).\n",
    "\n",
    "**Рекомендации:**\n",
    "\n",
    "следует продвигать тариф smart, т.к. этим тарифом пользуются те, кто платит в месяц больше чем абоненты ultra (выручка может быть более 3500 руб./мес., в то время как для ultra 75% выручки не превышают 2200) и высока вероятность, что в среднем в гениральной совокупности выручка абонентов тарифов различается."
   ]
  },
  {
   "cell_type": "markdown",
   "metadata": {},
   "source": [
    "- [x] Файлы открыты и изучены.\n",
    "- [x] Привести данные к нужным типам.\n",
    "- [x] Найти и исправить ошибки.\n",
    "- [x] Посчитано для кождого абонента количество сделанных звонков и израсходованных минут разговора по месяцам.\n",
    "- [x] Посчитано для кождого абонента количество отправленных сообщений по месяцам.\n",
    "- [x] Посчитан объем израсходованного интернет-трафика по месяцам.\n",
    "- [x] Посчитана помесячная выручка с каждого пользователя. \n",
    "- [x] Посчитано сколько минут разговора, сообщений и какой объём интернет-трафика требуется абонентам каждого тарифа в месяц.\n",
    "- [x] Рассчитано среднее количество, дисперсию и стандартное отклонение.\n",
    "- [x] Построены гистограммы.\n",
    "- [x] Описаны распределения.\n",
    "- [x] Проверена гипотеза: \"средняя выручка от абонентов тарифов «Ультра» и «Смарт» различается\".\n",
    "- [x] Проверена гипотеза: \"средняя выручка от абонентов из Москвы отличается от выручки пользователей из других регионов\".\n",
    "- [x]  в каждом этапе есть выводы\n",
    "- [x]  есть общий вывод"
   ]
  }
 ],
 "metadata": {
  "kernelspec": {
   "display_name": "Python 3",
   "language": "python",
   "name": "python3"
  },
  "language_info": {
   "codemirror_mode": {
    "name": "ipython",
    "version": 3
   },
   "file_extension": ".py",
   "mimetype": "text/x-python",
   "name": "python",
   "nbconvert_exporter": "python",
   "pygments_lexer": "ipython3",
   "version": "3.8.5"
  },
  "toc": {
   "base_numbering": 1,
   "nav_menu": {},
   "number_sections": true,
   "sideBar": true,
   "skip_h1_title": true,
   "title_cell": "Table of Contents",
   "title_sidebar": "Contents",
   "toc_cell": false,
   "toc_position": {},
   "toc_section_display": true,
   "toc_window_display": false
  }
 },
 "nbformat": 4,
 "nbformat_minor": 2
}
